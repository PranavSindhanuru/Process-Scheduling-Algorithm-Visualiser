{
 "cells": [
  {
   "cell_type": "code",
   "execution_count": 1,
   "id": "d6504c52",
   "metadata": {},
   "outputs": [],
   "source": [
    "import pandas as pd"
   ]
  },
  {
   "cell_type": "code",
   "execution_count": 134,
   "id": "d14b3925",
   "metadata": {},
   "outputs": [],
   "source": [
    "def FCFS(pr, at, bt):\n",
    "    df = pd.DataFrame({'pr': pr, 'at': at, 'bt': bt})\n",
    "    df = df.sort_values('at')\n",
    "    ct = list()\n",
    "    temp = 0\n",
    "    for i in range(len(df)):\n",
    "        temp += df.iloc[i]['bt']\n",
    "        ct.append(temp)\n",
    "    df['ct'] = ct\n",
    "    df['tat'] = df.apply(lambda x: x['ct'] - x['at'], axis=1)\n",
    "    df['wt'] = df.apply(lambda x: x['tat'] - x['bt'], axis=1)\n",
    "    df = df.sort_values('pr')\n",
    "    print(df)\n",
    "    print('wt mean = ', df['wt'].mean())\n",
    "    print('tat mean =', df['tat'].mean())"
   ]
  },
  {
   "cell_type": "code",
   "execution_count": 135,
   "id": "ecd79bfa",
   "metadata": {},
   "outputs": [
    {
     "name": "stdout",
     "output_type": "stream",
     "text": [
      "   pr  at  bt   ct  tat  wt\n",
      "0   1   3  10  100   97  87\n",
      "1   2   3  12  112  109  97\n",
      "2   3   2  20   90   88  68\n",
      "3   4   1  30   70   69  39\n",
      "4   5   0  40   40   40   0\n",
      "wt mean =  58.2\n",
      "tat mean = 80.6\n"
     ]
    }
   ],
   "source": [
    "pr = [1, 2, 3, 4, 5]\n",
    "at = [3, 3, 2, 1, 0]\n",
    "bt = [10, 12, 20, 30, 40]\n",
    "FCFS(pr, at, bt)"
   ]
  },
  {
   "cell_type": "code",
   "execution_count": null,
   "id": "aca0a07f",
   "metadata": {},
   "outputs": [],
   "source": []
  },
  {
   "cell_type": "code",
   "execution_count": 138,
   "id": "2bccb6d0",
   "metadata": {},
   "outputs": [],
   "source": [
    "def SJF(pr, at, bt):\n",
    "    time = min(at)\n",
    "    df = pd.DataFrame({'pr': pr, 'at': at, 'bt': bt})\n",
    "    df = df.sort_values('at')\n",
    "    temp = 0\n",
    "    temp_df = df.copy()\n",
    "    df['ct'] = 0\n",
    "    while len(temp_df) > 0:\n",
    "        copy_df = temp_df.copy()\n",
    "        copy_df = copy_df[copy_df['at'] <= time]\n",
    "        copy_df = copy_df.sort_values('bt')\n",
    "        for i in copy_df.index:\n",
    "            bt_temp = copy_df['bt'][i]\n",
    "            temp += bt_temp\n",
    "            time += bt_temp\n",
    "            df['ct'][i] = temp\n",
    "        temp_df = temp_df.drop(copy_df.index)\n",
    "    df = df.sort_values('pr')\n",
    "    df['tat'] = df.apply(lambda x: x['ct'] - x['at'], axis=1)\n",
    "    df['wt'] = df.apply(lambda x: x['tat'] - x['bt'], axis=1)\n",
    "    print(df)\n",
    "    print('wt mean = ', df['wt'].mean())\n",
    "    print('tat mean =', df['tat'].mean())"
   ]
  },
  {
   "cell_type": "code",
   "execution_count": 139,
   "id": "a482dd80",
   "metadata": {},
   "outputs": [
    {
     "name": "stdout",
     "output_type": "stream",
     "text": [
      "   pr  at  bt   ct  tat  wt\n",
      "0   1   3  10   50   47  37\n",
      "1   2   3  12   62   59  47\n",
      "2   3   2  20   82   80  60\n",
      "3   4   1  30  112  111  81\n",
      "4   5   0  40   40   40   0\n",
      "wt mean =  45.0\n",
      "tat mean = 67.4\n"
     ]
    }
   ],
   "source": [
    "pr = [1, 2, 3, 4, 5]\n",
    "at = [3, 3, 2, 1, 0]\n",
    "bt = [10, 12, 20, 30, 40]\n",
    "SJF(pr, at, bt)"
   ]
  },
  {
   "cell_type": "code",
   "execution_count": null,
   "id": "070940b7",
   "metadata": {},
   "outputs": [],
   "source": []
  },
  {
   "cell_type": "code",
   "execution_count": 140,
   "id": "4477d26d",
   "metadata": {},
   "outputs": [],
   "source": [
    "def LJF(pr, at, bt):\n",
    "    time = min(at)\n",
    "    df = pd.DataFrame({'pr': pr, 'at': at, 'bt': bt})\n",
    "    df = df.sort_values('at')\n",
    "    temp = 0\n",
    "    temp_df = df.copy()\n",
    "    df['ct'] = 0\n",
    "    while len(temp_df) > 0:\n",
    "        copy_df = temp_df.copy()\n",
    "        copy_df = copy_df[copy_df['at'] <= time]\n",
    "        copy_df = copy_df.sort_values('bt', ascending=False)\n",
    "        for i in copy_df.index:\n",
    "            bt_temp = copy_df['bt'][i]\n",
    "            temp += bt_temp\n",
    "            time += bt_temp\n",
    "            df['ct'][i] = temp\n",
    "        temp_df = temp_df.drop(copy_df.index)\n",
    "    df = df.sort_values('pr')\n",
    "    df['tat'] = df.apply(lambda x: x['ct'] - x['at'], axis=1)\n",
    "    df['wt'] = df.apply(lambda x: x['tat'] - x['bt'], axis=1)\n",
    "    print(df)\n",
    "    print('wt mean = ', df['wt'].mean())\n",
    "    print('tat mean =', df['tat'].mean())"
   ]
  },
  {
   "cell_type": "code",
   "execution_count": 141,
   "id": "80b8ace6",
   "metadata": {},
   "outputs": [
    {
     "name": "stdout",
     "output_type": "stream",
     "text": [
      "   pr  at  bt   ct  tat  wt\n",
      "0   1   3  10  112  109  99\n",
      "1   2   3  12  102   99  87\n",
      "2   3   2  20   90   88  68\n",
      "3   4   1  30   70   69  39\n",
      "4   5   0  40   40   40   0\n",
      "wt mean =  58.6\n",
      "tat mean = 81.0\n"
     ]
    }
   ],
   "source": [
    "pr = [1, 2, 3, 4, 5]\n",
    "at = [3, 3, 2, 1, 0]\n",
    "bt = [10, 12, 20, 30, 40]\n",
    "LJF(pr, at, bt)"
   ]
  },
  {
   "cell_type": "code",
   "execution_count": null,
   "id": "f485742f",
   "metadata": {},
   "outputs": [],
   "source": []
  },
  {
   "cell_type": "code",
   "execution_count": 144,
   "id": "3af93791",
   "metadata": {},
   "outputs": [],
   "source": [
    "def Priority(pr, at, bt, priority):\n",
    "    time = min(at)\n",
    "    df = pd.DataFrame({'pr': pr, 'at': at, 'bt': bt, 'priority': priority})\n",
    "    df = df.sort_values('at')\n",
    "    temp = 0\n",
    "    temp_df = df.copy()\n",
    "    df['ct'] = 0\n",
    "    while len(temp_df) > 0:\n",
    "        copy_df = temp_df.copy()\n",
    "        copy_df = copy_df[copy_df['at'] <= time]\n",
    "        copy_df = copy_df.sort_values('priority')\n",
    "        for i in copy_df.index:\n",
    "            bt_temp = copy_df['bt'][i]\n",
    "            temp += bt_temp\n",
    "            time += bt_temp\n",
    "            df['ct'][i] = temp\n",
    "        temp_df = temp_df.drop(copy_df.index)\n",
    "    df = df.sort_values('pr')\n",
    "    df['tat'] = df.apply(lambda x: x['ct'] - x['at'], axis=1)\n",
    "    df['wt'] = df.apply(lambda x: x['tat'] - x['bt'], axis=1)\n",
    "    print(df)\n",
    "    print('wt mean = ', df['wt'].mean())\n",
    "    print('tat mean =', df['tat'].mean())"
   ]
  },
  {
   "cell_type": "code",
   "execution_count": 145,
   "id": "0cd63439",
   "metadata": {},
   "outputs": [
    {
     "name": "stdout",
     "output_type": "stream",
     "text": [
      "   pr  at  bt  priority   ct  tat  wt\n",
      "0   1   3  10        40   50   47  37\n",
      "1   2   3  12        58   62   59  47\n",
      "2   3   2  20        92  112  110  90\n",
      "3   4   1  30        79   92   91  61\n",
      "4   5   0  40        81   40   40   0\n",
      "wt mean =  47.0\n",
      "tat mean = 69.4\n"
     ]
    }
   ],
   "source": [
    "pr = [1, 2, 3, 4, 5]\n",
    "at = [3, 3, 2, 1, 0]\n",
    "bt = [10, 12, 20, 30, 40]\n",
    "priority = [40, 58, 92, 79, 81]\n",
    "Priority(pr, at, bt, priority)"
   ]
  },
  {
   "cell_type": "code",
   "execution_count": null,
   "id": "15f04809",
   "metadata": {},
   "outputs": [],
   "source": []
  },
  {
   "cell_type": "code",
   "execution_count": null,
   "id": "2ba84258",
   "metadata": {},
   "outputs": [],
   "source": [
    "def RoundRobin(pr, at, bt, time_quanta):\n",
    "    "
   ]
  }
 ],
 "metadata": {
  "kernelspec": {
   "display_name": "Python 3 (ipykernel)",
   "language": "python",
   "name": "python3"
  },
  "language_info": {
   "codemirror_mode": {
    "name": "ipython",
    "version": 3
   },
   "file_extension": ".py",
   "mimetype": "text/x-python",
   "name": "python",
   "nbconvert_exporter": "python",
   "pygments_lexer": "ipython3",
   "version": "3.7.9"
  }
 },
 "nbformat": 4,
 "nbformat_minor": 5
}
