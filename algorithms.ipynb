{
 "cells": [
  {
   "cell_type": "code",
   "execution_count": 1,
   "id": "e1a26766",
   "metadata": {},
   "outputs": [],
   "source": [
    "import pandas as pd"
   ]
  },
  {
   "cell_type": "code",
   "execution_count": 134,
   "id": "4bbebcd1",
   "metadata": {},
   "outputs": [],
   "source": [
    "def FCFS(pr, at, bt):\n",
    "    df = pd.DataFrame({'pr': pr, 'at': at, 'bt': bt})\n",
    "    df = df.sort_values('at')\n",
    "    ct = list()\n",
    "    temp = 0\n",
    "    for i in range(len(df)):\n",
    "        temp += df.iloc[i]['bt']\n",
    "        ct.append(temp)\n",
    "    df['ct'] = ct\n",
    "    df['tat'] = df.apply(lambda x: x['ct'] - x['at'], axis=1)\n",
    "    df['wt'] = df.apply(lambda x: x['tat'] - x['bt'], axis=1)\n",
    "    df = df.sort_values('pr')\n",
    "    print(df)\n",
    "    print('wt mean = ', df['wt'].mean())\n",
    "    print('tat mean =', df['tat'].mean())"
   ]
  },
  {
   "cell_type": "code",
   "execution_count": 135,
   "id": "635f5711",
   "metadata": {},
   "outputs": [
    {
     "name": "stdout",
     "output_type": "stream",
     "text": [
      "   pr  at  bt   ct  tat  wt\n",
      "0   1   3  10  100   97  87\n",
      "1   2   3  12  112  109  97\n",
      "2   3   2  20   90   88  68\n",
      "3   4   1  30   70   69  39\n",
      "4   5   0  40   40   40   0\n",
      "wt mean =  58.2\n",
      "tat mean = 80.6\n"
     ]
    }
   ],
   "source": [
    "pr = [1, 2, 3, 4, 5]\n",
    "at = [3, 3, 2, 1, 0]\n",
    "bt = [10, 12, 20, 30, 40]\n",
    "FCFS(pr, at, bt)"
   ]
  },
  {
   "cell_type": "code",
   "execution_count": null,
   "id": "9ebd749c",
   "metadata": {},
   "outputs": [],
   "source": []
  },
  {
   "cell_type": "code",
   "execution_count": 230,
   "id": "a0ebd630",
   "metadata": {},
   "outputs": [],
   "source": [
    "def SJF(pr, at, bt):\n",
    "    time = min(at)\n",
    "    df = pd.DataFrame({'pr': pr, 'at': at, 'bt': bt})\n",
    "    df = df.sort_values('at')\n",
    "    temp = time\n",
    "    temp_df = df.copy()\n",
    "    df['ct'] = 0\n",
    "    while len(temp_df) > 0:\n",
    "        copy_df = temp_df.copy()\n",
    "        copy_df = copy_df[copy_df['at'] <= time]\n",
    "        copy_df = copy_df.sort_values('bt')\n",
    "        for i in copy_df.index:\n",
    "            bt_temp = copy_df['bt'][i]\n",
    "            temp += bt_temp\n",
    "            time += bt_temp\n",
    "            df['ct'][i] = temp\n",
    "        temp_df = temp_df.drop(copy_df.index)\n",
    "    df = df.sort_values('pr')\n",
    "    df['tat'] = df.apply(lambda x: x['ct'] - x['at'], axis=1)\n",
    "    df['wt'] = df.apply(lambda x: x['tat'] - x['bt'], axis=1)\n",
    "    print(df)\n",
    "    print('wt mean = ', df['wt'].mean())\n",
    "    print('tat mean =', df['tat'].mean())"
   ]
  },
  {
   "cell_type": "code",
   "execution_count": 231,
   "id": "6d77695f",
   "metadata": {},
   "outputs": [
    {
     "name": "stdout",
     "output_type": "stream",
     "text": [
      "   pr  at  bt   ct  tat  wt\n",
      "0   1   3  10   50   47  37\n",
      "1   2   3  12   62   59  47\n",
      "2   3   2  20   82   80  60\n",
      "3   4   1  30  112  111  81\n",
      "4   5   0  40   40   40   0\n",
      "wt mean =  45.0\n",
      "tat mean = 67.4\n"
     ]
    }
   ],
   "source": [
    "pr = [1, 2, 3, 4, 5]\n",
    "at = [3, 3, 2, 1, 0]\n",
    "bt = [10, 12, 20, 30, 40]\n",
    "SJF(pr, at, bt)"
   ]
  },
  {
   "cell_type": "code",
   "execution_count": null,
   "id": "bb4e13d2",
   "metadata": {},
   "outputs": [],
   "source": []
  },
  {
   "cell_type": "code",
   "execution_count": 228,
   "id": "e3c853c5",
   "metadata": {},
   "outputs": [],
   "source": [
    "def LJF(pr, at, bt):\n",
    "    time = min(at)\n",
    "    df = pd.DataFrame({'pr': pr, 'at': at, 'bt': bt})\n",
    "    df = df.sort_values('at')\n",
    "    temp = time\n",
    "    temp_df = df.copy()\n",
    "    df['ct'] = 0\n",
    "    while len(temp_df) > 0:\n",
    "        copy_df = temp_df.copy()\n",
    "        copy_df = copy_df[copy_df['at'] <= time]\n",
    "        copy_df = copy_df.sort_values('bt', ascending=False)\n",
    "        for i in copy_df.index:\n",
    "            bt_temp = copy_df['bt'][i]\n",
    "            temp += bt_temp\n",
    "            time += bt_temp\n",
    "            df['ct'][i] = temp\n",
    "        temp_df = temp_df.drop(copy_df.index)\n",
    "    df = df.sort_values('pr')\n",
    "    df['tat'] = df.apply(lambda x: x['ct'] - x['at'], axis=1)\n",
    "    df['wt'] = df.apply(lambda x: x['tat'] - x['bt'], axis=1)\n",
    "    print(df)\n",
    "    print('wt mean = ', df['wt'].mean())\n",
    "    print('tat mean =', df['tat'].mean())"
   ]
  },
  {
   "cell_type": "code",
   "execution_count": 229,
   "id": "7f17d834",
   "metadata": {},
   "outputs": [
    {
     "name": "stdout",
     "output_type": "stream",
     "text": [
      "   pr  at  bt  ct  tat  wt\n",
      "0   1   3  10  73   70  60\n",
      "1   2   3  12  63   60  48\n",
      "2   3   2  20  51   49  29\n",
      "3   4   1  30  31   30   0\n",
      "wt mean =  34.25\n",
      "tat mean = 52.25\n"
     ]
    }
   ],
   "source": [
    "pr = [1, 2, 3, 4]\n",
    "at = [3, 3, 2, 1]\n",
    "bt = [10, 12, 20, 30]\n",
    "LJF(pr, at, bt)"
   ]
  },
  {
   "cell_type": "code",
   "execution_count": null,
   "id": "dd6070bc",
   "metadata": {},
   "outputs": [],
   "source": []
  },
  {
   "cell_type": "code",
   "execution_count": 232,
   "id": "bc61e778",
   "metadata": {},
   "outputs": [],
   "source": [
    "def Priority(pr, at, bt, priority):\n",
    "    time = min(at)\n",
    "    df = pd.DataFrame({'pr': pr, 'at': at, 'bt': bt, 'priority': priority})\n",
    "    df = df.sort_values('at')\n",
    "    temp = time\n",
    "    temp_df = df.copy()\n",
    "    df['ct'] = 0\n",
    "    while len(temp_df) > 0:\n",
    "        copy_df = temp_df.copy()\n",
    "        copy_df = copy_df[copy_df['at'] <= time]\n",
    "        copy_df = copy_df.sort_values('priority')\n",
    "        for i in copy_df.index:\n",
    "            bt_temp = copy_df['bt'][i]\n",
    "            temp += bt_temp\n",
    "            time += bt_temp\n",
    "            df['ct'][i] = temp\n",
    "        temp_df = temp_df.drop(copy_df.index)\n",
    "    df = df.sort_values('pr')\n",
    "    df['tat'] = df.apply(lambda x: x['ct'] - x['at'], axis=1)\n",
    "    df['wt'] = df.apply(lambda x: x['tat'] - x['bt'], axis=1)\n",
    "    print(df)\n",
    "    print('wt mean = ', df['wt'].mean())\n",
    "    print('tat mean =', df['tat'].mean())"
   ]
  },
  {
   "cell_type": "code",
   "execution_count": 233,
   "id": "3baf2f2b",
   "metadata": {},
   "outputs": [
    {
     "name": "stdout",
     "output_type": "stream",
     "text": [
      "   pr  at  bt  priority   ct  tat  wt\n",
      "0   1   3  10        40   50   47  37\n",
      "1   2   3  12        58   62   59  47\n",
      "2   3   2  20        92  112  110  90\n",
      "3   4   1  30        79   92   91  61\n",
      "4   5   0  40        81   40   40   0\n",
      "wt mean =  47.0\n",
      "tat mean = 69.4\n"
     ]
    }
   ],
   "source": [
    "pr = [1, 2, 3, 4, 5]\n",
    "at = [3, 3, 2, 1, 0]\n",
    "bt = [10, 12, 20, 30, 40]\n",
    "priority = [40, 58, 92, 79, 81]\n",
    "Priority(pr, at, bt, priority)"
   ]
  },
  {
   "cell_type": "code",
   "execution_count": null,
   "id": "b704fb8c",
   "metadata": {},
   "outputs": [],
   "source": []
  },
  {
   "cell_type": "code",
   "execution_count": 166,
   "id": "52c82eda",
   "metadata": {},
   "outputs": [],
   "source": [
    "def RoundRobin(pr, bt, time_quanta):\n",
    "    df = pd.DataFrame({'pr': pr, 'bt': bt})\n",
    "    df = df.sort_values('pr')\n",
    "    temp = 0\n",
    "    df['ct'] = 0\n",
    "    copy_df = df.copy()\n",
    "    while len(copy_df) > 0:\n",
    "        for i in copy_df.index:\n",
    "            if copy_df['bt'][i] > time_quanta:\n",
    "                copy_df['bt'][i] -= time_quanta\n",
    "                temp += time_quanta\n",
    "            else:\n",
    "                temp += copy_df['bt'][i]\n",
    "                df['ct'][i] = temp\n",
    "                copy_df = copy_df.drop([i])\n",
    "    df['tat'] = df.apply(lambda x: x['ct'], axis=1)\n",
    "    df['wt'] = df.apply(lambda x: x['tat'] - x['bt'], axis=1)\n",
    "    print(df)\n",
    "    print('wt mean = ', df['wt'].mean())\n",
    "    print('tat mean =', df['tat'].mean())"
   ]
  },
  {
   "cell_type": "code",
   "execution_count": 167,
   "id": "98d3c529",
   "metadata": {},
   "outputs": [
    {
     "name": "stdout",
     "output_type": "stream",
     "text": [
      "   pr  bt   ct  tat  wt\n",
      "0   1  10   10   10   0\n",
      "1   2  12   22   22  10\n",
      "2   3  20   42   42  22\n",
      "3   4  30   92   92  62\n",
      "4   5  40  112  112  72\n",
      "wt mean =  33.2\n",
      "tat mean = 55.6\n"
     ]
    }
   ],
   "source": [
    "pr = [1, 2, 3, 4, 5]\n",
    "bt = [10, 12, 20, 30, 40]\n",
    "RoundRobin(pr, bt, 20)"
   ]
  },
  {
   "cell_type": "code",
   "execution_count": null,
   "id": "b1759b7f",
   "metadata": {},
   "outputs": [],
   "source": []
  },
  {
   "cell_type": "code",
   "execution_count": 234,
   "id": "4325a004",
   "metadata": {},
   "outputs": [],
   "source": [
    "def SJF_p(pr, at, bt):\n",
    "    time = min(at)\n",
    "    df = pd.DataFrame({'pr': pr, 'at': at, 'bt': bt})\n",
    "    df = df.sort_values('at')\n",
    "    temp = time\n",
    "    temp_df = df.copy()\n",
    "    df['ct'] = 0\n",
    "    while time < max(at):\n",
    "        copy_df = temp_df.copy()\n",
    "        copy_df = copy_df[copy_df['at'] <= time]\n",
    "        copy_df = copy_df.sort_values('bt')\n",
    "        temp_df['bt'][int(copy_df.index[0])] -= 1\n",
    "        time += 1\n",
    "        temp += 1\n",
    "        if temp_df['bt'][int(copy_df.index[0])] == 0:\n",
    "            df['ct'][[int(copy_df.index[0])]] = temp\n",
    "            temp_df = temp_df.drop([int(copy_df.index[0])])\n",
    "    temp_df = temp_df.sort_values('bt')\n",
    "    while len(temp_df) > 0:\n",
    "        temp_index = int(temp_df.index[0])\n",
    "        temp += temp_df['bt'][temp_index]\n",
    "        df['ct'][temp_index] = temp\n",
    "        temp_df = temp_df.drop(temp_index)\n",
    "    df = df.sort_values('pr')\n",
    "    df['tat'] = df.apply(lambda x: x['ct'] - x['at'], axis=1)\n",
    "    df['wt'] = df.apply(lambda x: x['tat'] - x['bt'], axis=1)\n",
    "    print(df)\n",
    "    print('wt mean = ', df['wt'].mean())\n",
    "    print('tat mean =', df['tat'].mean())"
   ]
  },
  {
   "cell_type": "code",
   "execution_count": 235,
   "id": "1a8a2f7b",
   "metadata": {},
   "outputs": [
    {
     "name": "stdout",
     "output_type": "stream",
     "text": [
      "   pr  at  bt   ct  tat  wt\n",
      "0   1   3  10   13   10   0\n",
      "1   2   3  12   25   22  10\n",
      "2   3   2  20   44   42  22\n",
      "3   4   1  30   73   72  42\n",
      "4   5   0  40  112  112  72\n",
      "wt mean =  29.2\n",
      "tat mean = 51.6\n"
     ]
    }
   ],
   "source": [
    "pr = [1, 2, 3, 4, 5]\n",
    "at = [3, 3, 2, 1, 0]\n",
    "bt = [10, 12, 20, 30, 40]\n",
    "SJF_p(pr, at, bt)"
   ]
  },
  {
   "cell_type": "code",
   "execution_count": null,
   "id": "6480ddd2",
   "metadata": {},
   "outputs": [],
   "source": []
  },
  {
   "cell_type": "code",
   "execution_count": 245,
   "id": "350f336e",
   "metadata": {},
   "outputs": [],
   "source": [
    "def LJF_p(pr, at, bt):\n",
    "    time = min(at)\n",
    "    df = pd.DataFrame({'pr': pr, 'at': at, 'bt': bt})\n",
    "    df = df.sort_values('at')\n",
    "    temp = time\n",
    "    temp_df = df.copy()\n",
    "    df['ct'] = 0\n",
    "    while time < max(at):\n",
    "        copy_df = temp_df.copy()\n",
    "        copy_df = copy_df[copy_df['at'] <= time]\n",
    "        copy_df = copy_df.sort_values('bt', ascending=False)\n",
    "        temp_df['bt'][int(copy_df.index[0])] -= 1\n",
    "        time += 1\n",
    "        temp += 1\n",
    "        if temp_df['bt'][int(copy_df.index[0])] == 0:\n",
    "            df['ct'][[int(copy_df.index[0])]] = temp\n",
    "            temp_df = temp_df.drop([int(copy_df.index[0])])\n",
    "    temp_df = temp_df.sort_values('bt')\n",
    "    while len(temp_df) > 0:\n",
    "        copy_df = temp_df.copy()\n",
    "        copy_df = copy_df[copy_df['at'] <= time]\n",
    "        copy_df = copy_df.sort_values('bt', ascending=False)\n",
    "        temp_df['bt'][int(copy_df.index[0])] -= 1\n",
    "        time += 1\n",
    "        temp += 1\n",
    "        if temp_df['bt'][int(copy_df.index[0])] == 0:\n",
    "            df['ct'][[int(copy_df.index[0])]] = temp\n",
    "            temp_df = temp_df.drop([int(copy_df.index[0])])\n",
    "    df = df.sort_values('pr')\n",
    "    df['tat'] = df.apply(lambda x: x['ct'] - x['at'], axis=1)\n",
    "    df['wt'] = df.apply(lambda x: x['tat'] - x['bt'], axis=1)\n",
    "    print(df)\n",
    "    print('wt mean = ', df['wt'].mean())\n",
    "    print('tat mean =', df['tat'].mean())"
   ]
  },
  {
   "cell_type": "code",
   "execution_count": 246,
   "id": "4eac0154",
   "metadata": {},
   "outputs": [
    {
     "name": "stdout",
     "output_type": "stream",
     "text": [
      "   pr  at  bt  ct  tat  wt\n",
      "0   1   3  10  70   67  57\n",
      "1   2   3  12  71   68  56\n",
      "2   3   2  20  72   70  50\n",
      "3   4   1  30  73   72  42\n",
      "wt mean =  51.25\n",
      "tat mean = 69.25\n"
     ]
    }
   ],
   "source": [
    "pr = [1, 2, 3, 4]\n",
    "at = [3, 3, 2, 1]\n",
    "bt = [10, 12, 20, 30]\n",
    "LJF_p(pr, at, bt)"
   ]
  },
  {
   "cell_type": "code",
   "execution_count": null,
   "id": "c4d3ac7f",
   "metadata": {},
   "outputs": [],
   "source": []
  },
  {
   "cell_type": "code",
   "execution_count": 247,
   "id": "1062f8fc",
   "metadata": {},
   "outputs": [],
   "source": [
    "def Priority_p(pr, at, bt, priority):\n",
    "    time = min(at)\n",
    "    df = pd.DataFrame({'pr': pr, 'at': at, 'bt': bt, 'priority': priority})\n",
    "    df = df.sort_values('at')\n",
    "    temp = time\n",
    "    temp_df = df.copy()\n",
    "    df['ct'] = 0\n",
    "    while time < max(at):\n",
    "        copy_df = temp_df.copy()\n",
    "        copy_df = copy_df[copy_df['at'] <= time]\n",
    "        copy_df = copy_df.sort_values('priority')\n",
    "        temp_df['bt'][int(copy_df.index[0])] -= 1\n",
    "        time += 1\n",
    "        temp += 1\n",
    "        if temp_df['bt'][int(copy_df.index[0])] == 0:\n",
    "            df['ct'][[int(copy_df.index[0])]] = temp\n",
    "            temp_df = temp_df.drop([int(copy_df.index[0])])\n",
    "    temp_df = temp_df.sort_values('priority')\n",
    "    while len(temp_df) > 0:\n",
    "        temp_index = int(temp_df.index[0])\n",
    "        temp += temp_df['bt'][temp_index]\n",
    "        df['ct'][temp_index] = temp\n",
    "        temp_df = temp_df.drop(temp_index)\n",
    "    df = df.sort_values('pr')\n",
    "    df['tat'] = df.apply(lambda x: x['ct'] - x['at'], axis=1)\n",
    "    df['wt'] = df.apply(lambda x: x['tat'] - x['bt'], axis=1)\n",
    "    print(df)\n",
    "    print('wt mean = ', df['wt'].mean())\n",
    "    print('tat mean =', df['tat'].mean())"
   ]
  },
  {
   "cell_type": "code",
   "execution_count": 248,
   "id": "65d33626",
   "metadata": {},
   "outputs": [
    {
     "name": "stdout",
     "output_type": "stream",
     "text": [
      "   pr  at  bt  priority  ct  tat  wt\n",
      "0   1   3  10        40  13   10   0\n",
      "1   2   3  12        58  25   22  10\n",
      "2   3   2  20        92  73   71  51\n",
      "3   4   1  30        79  53   52  22\n",
      "wt mean =  20.75\n",
      "tat mean = 38.75\n"
     ]
    }
   ],
   "source": [
    "pr = [1, 2, 3, 4]\n",
    "at = [3, 3, 2, 1]\n",
    "bt = [10, 12, 20, 30]\n",
    "priority = [40, 58, 92, 79]\n",
    "Priority_p(pr, at, bt, priority)"
   ]
  },
  {
   "cell_type": "code",
   "execution_count": null,
   "id": "5a543b44",
   "metadata": {},
   "outputs": [],
   "source": []
  }
 ],
 "metadata": {
  "kernelspec": {
   "display_name": "Python 3 (ipykernel)",
   "language": "python",
   "name": "python3"
  },
  "language_info": {
   "codemirror_mode": {
    "name": "ipython",
    "version": 3
   },
   "file_extension": ".py",
   "mimetype": "text/x-python",
   "name": "python",
   "nbconvert_exporter": "python",
   "pygments_lexer": "ipython3",
   "version": "3.7.9"
  }
 },
 "nbformat": 4,
 "nbformat_minor": 5
}
